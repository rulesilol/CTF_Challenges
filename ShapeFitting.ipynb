{
 "cells": [
  {
   "cell_type": "code",
   "execution_count": 6,
   "id": "3f78231e",
   "metadata": {},
   "outputs": [],
   "source": [
    "import random\n",
    "import string\n",
    "import hashlib"
   ]
  },
  {
   "cell_type": "markdown",
   "id": "633f743e",
   "metadata": {},
   "source": [
    "Return if it can fit and how many rotations to fit it?"
   ]
  },
  {
   "cell_type": "markdown",
   "id": "254b6ebf-bac7-48bd-a565-1c14d468dcda",
   "metadata": {},
   "source": [
    "So shapes are denoted by X and O\n",
    "Holes are denoted by x and o"
   ]
  },
  {
   "cell_type": "code",
   "execution_count": null,
   "id": "67c12108-6122-4d81-bb8e-528f6bef9bdc",
   "metadata": {},
   "outputs": [],
   "source": [
    "## Perfect Fit\n",
    "shape0 = [\n",
    "    [O, X, X, O],\n",
    "    [X, X, X, X],\n",
    "    [X, X, X, X],\n",
    "    [O, X, X, O],\n",
    "]\n",
    "hole0 = [\n",
    "    [x, o, o, x],\n",
    "    [o, o, o, o],\n",
    "    [o, o, o, o],\n",
    "    [x, o, o, x],\n",
    "]\n",
    "\n",
    "\n",
    "## Fit rotation needed (one clock-wise rotation)\n",
    "shape1 = [\n",
    "    [X, O, O, O],\n",
    "    [X, O, O, O],\n",
    "    [X, O, O, O],\n",
    "    [X, X, X, O],\n",
    "]\n",
    "\n",
    "hole1 = [\n",
    "    [o, o, o, o],\n",
    "    [o, x, x, x],\n",
    "    [o, x, x, x],\n",
    "    [x, x, x, x],\n",
    "]\n",
    "\n",
    "## Does not fit\n",
    "shape2 = [\n",
    "    [O, X, X, O],\n",
    "    [X, X, X, X],\n",
    "    [X, X, X, X],\n",
    "    [O, X, X, O],\n",
    "]\n",
    "\n",
    "hole2 = [\n",
    "    [x, o, o, x],\n",
    "    [x, o, o, o],\n",
    "    [x, o, o, o],\n",
    "    [x, o, o, x],\n",
    "]"
   ]
  },
  {
   "cell_type": "code",
   "execution_count": null,
   "id": "46327994-69b3-440a-8e5b-9a97835bdaac",
   "metadata": {},
   "outputs": [],
   "source": [
    "## Size is a n x n matrix, fits is True or False, rotations is 0, 1, 2, 3 clockwise\n",
    "## Using DP to generate the shapes\n",
    "def shapeAndHoleGenerator(size, fits, rotations):\n",
    "    currentShape = [[O] * n] * n\n",
    "    def shapeGen()"
   ]
  },
  {
   "cell_type": "code",
   "execution_count": 8,
   "id": "6dca0b56-4946-4708-90aa-3b330281a6c2",
   "metadata": {},
   "outputs": [],
   "source": [
    "n = 5\n",
    "shapeTemplate = [[\"O\"] * n] * n\n",
    "shapeSize = random.randint(n, int(n**2/2))"
   ]
  },
  {
   "cell_type": "code",
   "execution_count": 13,
   "id": "62d74806-b58a-408f-a33d-25c209ece8cd",
   "metadata": {},
   "outputs": [
    {
     "data": {
      "text/plain": [
       "[17, 0, 20, 11, 6, 23, 3, 7, 9, 4, 2, 12]"
      ]
     },
     "execution_count": 13,
     "metadata": {},
     "output_type": "execute_result"
    }
   ],
   "source": [
    "randomLocations = random.sample(range(0, 24), shapeSize)\n",
    "randomLocations"
   ]
  }
 ],
 "metadata": {
  "kernelspec": {
   "display_name": "Python 3 (ipykernel)",
   "language": "python",
   "name": "python3"
  },
  "language_info": {
   "codemirror_mode": {
    "name": "ipython",
    "version": 3
   },
   "file_extension": ".py",
   "mimetype": "text/x-python",
   "name": "python",
   "nbconvert_exporter": "python",
   "pygments_lexer": "ipython3",
   "version": "3.10.13"
  }
 },
 "nbformat": 4,
 "nbformat_minor": 5
}
