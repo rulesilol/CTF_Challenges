{
 "cells": [
  {
   "cell_type": "code",
   "execution_count": 1,
   "id": "3f78231e",
   "metadata": {},
   "outputs": [],
   "source": [
    "import random\n",
    "import string\n",
    "import hashlib"
   ]
  },
  {
   "cell_type": "markdown",
   "id": "633f743e",
   "metadata": {},
   "source": [
    "Return if it can fit and how many rotations to fit it?"
   ]
  },
  {
   "cell_type": "code",
   "execution_count": null,
   "id": "311a543b",
   "metadata": {},
   "outputs": [],
   "source": [
    "[\n",
    "    [],\n",
    "    [],\n",
    "    [],\n",
    "    []\n",
    "]"
   ]
  }
 ],
 "metadata": {
  "kernelspec": {
   "display_name": "Python 3 (ipykernel)",
   "language": "python",
   "name": "python3"
  },
  "language_info": {
   "codemirror_mode": {
    "name": "ipython",
    "version": 3
   },
   "file_extension": ".py",
   "mimetype": "text/x-python",
   "name": "python",
   "nbconvert_exporter": "python",
   "pygments_lexer": "ipython3",
   "version": "3.11.3"
  }
 },
 "nbformat": 4,
 "nbformat_minor": 5
}
